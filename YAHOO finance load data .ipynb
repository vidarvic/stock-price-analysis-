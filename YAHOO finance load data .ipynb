{
 "cells": [
  {
   "cell_type": "code",
   "execution_count": 20,
   "metadata": {
    "collapsed": false
   },
   "outputs": [
    {
     "name": "stdout",
     "output_type": "stream",
     "text": [
      "41.52\n",
      "90.38M\n",
      "41.02\n"
     ]
    }
   ],
   "source": [
    "from yahoo_finance import Share\n",
    "import csv\n",
    "\n",
    "yahoo = Share('YHOO')\n",
    "print(yahoo.get_open())\n",
    "print(yahoo.get_ebitda())\n",
    "print(yahoo.get_50day_moving_avg())"
   ]
  },
  {
   "cell_type": "code",
   "execution_count": 21,
   "metadata": {
    "collapsed": false,
    "scrolled": true
   },
   "outputs": [],
   "source": [
    "datatemp = yahoo.get_historical('2015-01-01', '2015-12-31')\n",
    "#print(yahoo.get_historical('2016-12-01', '2016-12-04'))\n",
    "#type(yahoo.get_historical('2016-12-01', '2016-12-04'))\n",
    "data=[]\n",
    "for i in range(len(datatemp)):\n",
    "    data.append(datatemp[len(datatemp)-i-1])\n",
    "#print(data)"
   ]
  },
  {
   "cell_type": "code",
   "execution_count": 22,
   "metadata": {
    "collapsed": false
   },
   "outputs": [],
   "source": [
    "headers = ['Symbol','Date','High','Low','Close','Open','Volume','Adj_Close']\n",
    "\n",
    "with open('data.csv','w', newline='') as f:\n",
    "    f_csv = csv.DictWriter(f, headers)\n",
    "    f_csv.writeheader()\n",
    "    f_csv.writerows(data)"
   ]
  },
  {
   "cell_type": "code",
   "execution_count": null,
   "metadata": {
    "collapsed": true
   },
   "outputs": [],
   "source": []
  }
 ],
 "metadata": {
  "anaconda-cloud": {},
  "kernelspec": {
   "display_name": "Python [default]",
   "language": "python",
   "name": "python2"
  },
  "language_info": {
   "codemirror_mode": {
    "name": "ipython",
    "version": 2
   },
   "file_extension": ".py",
   "mimetype": "text/x-python",
   "name": "python",
   "nbconvert_exporter": "python",
   "pygments_lexer": "ipython2",
   "version": "2.7.12"
  }
 },
 "nbformat": 4,
 "nbformat_minor": 0
}
